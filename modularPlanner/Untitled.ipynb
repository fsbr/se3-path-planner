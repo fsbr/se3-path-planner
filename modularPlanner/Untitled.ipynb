{
 "cells": [
  {
   "cell_type": "code",
   "execution_count": 1,
   "metadata": {
    "collapsed": false
   },
   "outputs": [
    {
     "ename": "ImportError",
     "evalue": "No module named 'matplotlib.externals'",
     "output_type": "error",
     "traceback": [
      "\u001b[0;31m---------------------------------------------------------------------------\u001b[0m",
      "\u001b[0;31mImportError\u001b[0m                               Traceback (most recent call last)",
      "\u001b[0;32m<ipython-input-1-20efc4210393>\u001b[0m in \u001b[0;36m<module>\u001b[0;34m()\u001b[0m\n\u001b[0;32m----> 1\u001b[0;31m \u001b[0;32mimport\u001b[0m \u001b[0mtsyganenko\u001b[0m \u001b[0;32mas\u001b[0m \u001b[0mtsyg\u001b[0m\u001b[0;34m\u001b[0m\u001b[0m\n\u001b[0m\u001b[1;32m      2\u001b[0m \u001b[0;32mimport\u001b[0m \u001b[0mpandas\u001b[0m \u001b[0;32mas\u001b[0m \u001b[0mpd\u001b[0m\u001b[0;34m\u001b[0m\u001b[0m\n\u001b[1;32m      3\u001b[0m \u001b[0;32mimport\u001b[0m \u001b[0mnumpy\u001b[0m \u001b[0;32mas\u001b[0m \u001b[0mnp\u001b[0m\u001b[0;34m\u001b[0m\u001b[0m\n\u001b[1;32m      4\u001b[0m \u001b[0;32mimport\u001b[0m \u001b[0mmatplotlib\u001b[0m\u001b[0;34m.\u001b[0m\u001b[0mpyplot\u001b[0m \u001b[0;32mas\u001b[0m \u001b[0mplt\u001b[0m\u001b[0;34m\u001b[0m\u001b[0m\n\u001b[1;32m      5\u001b[0m \u001b[0;32mfrom\u001b[0m \u001b[0mspacepy\u001b[0m \u001b[0;32mimport\u001b[0m \u001b[0mcoordinates\u001b[0m \u001b[0;32mas\u001b[0m \u001b[0mcoord\u001b[0m\u001b[0;34m\u001b[0m\u001b[0m\n",
      "\u001b[0;32m/home/tckf/se3-path-planner/modularPlanner/tsyganenko.py\u001b[0m in \u001b[0;36m<module>\u001b[0;34m()\u001b[0m\n\u001b[1;32m     12\u001b[0m \u001b[0;32mimport\u001b[0m \u001b[0mnumpy\u001b[0m \u001b[0;32mas\u001b[0m \u001b[0mnp\u001b[0m\u001b[0;34m\u001b[0m\u001b[0m\n\u001b[1;32m     13\u001b[0m \u001b[0;32mimport\u001b[0m \u001b[0mmatplotlib\u001b[0m\u001b[0;34m.\u001b[0m\u001b[0mpyplot\u001b[0m \u001b[0;32mas\u001b[0m \u001b[0mplt\u001b[0m\u001b[0;34m\u001b[0m\u001b[0m\n\u001b[0;32m---> 14\u001b[0;31m \u001b[0;32mfrom\u001b[0m \u001b[0mmpl_toolkits\u001b[0m\u001b[0;34m.\u001b[0m\u001b[0mmplot3d\u001b[0m \u001b[0;32mimport\u001b[0m \u001b[0mAxes3D\u001b[0m\u001b[0;34m\u001b[0m\u001b[0m\n\u001b[0m\u001b[1;32m     15\u001b[0m \u001b[0;34m\u001b[0m\u001b[0m\n\u001b[1;32m     16\u001b[0m \u001b[0;31m# one possible way to structure this is to have *.h file that includes all the\u001b[0m\u001b[0;34m\u001b[0m\u001b[0;34m\u001b[0m\u001b[0m\n",
      "\u001b[0;32m/usr/lib/python3/dist-packages/mpl_toolkits/mplot3d/__init__.py\u001b[0m in \u001b[0;36m<module>\u001b[0;34m()\u001b[0m\n\u001b[1;32m      2\u001b[0m                         unicode_literals)\n\u001b[1;32m      3\u001b[0m \u001b[0;34m\u001b[0m\u001b[0m\n\u001b[0;32m----> 4\u001b[0;31m \u001b[0;32mfrom\u001b[0m \u001b[0mmatplotlib\u001b[0m\u001b[0;34m.\u001b[0m\u001b[0mexternals\u001b[0m \u001b[0;32mimport\u001b[0m \u001b[0msix\u001b[0m\u001b[0;34m\u001b[0m\u001b[0m\n\u001b[0m\u001b[1;32m      5\u001b[0m \u001b[0;34m\u001b[0m\u001b[0m\n\u001b[1;32m      6\u001b[0m \u001b[0;32mfrom\u001b[0m \u001b[0;34m.\u001b[0m\u001b[0maxes3d\u001b[0m \u001b[0;32mimport\u001b[0m \u001b[0mAxes3D\u001b[0m\u001b[0;34m\u001b[0m\u001b[0m\n",
      "\u001b[0;31mImportError\u001b[0m: No module named 'matplotlib.externals'"
     ]
    }
   ],
   "source": [
    "import tsyganenko as tsyg\n",
    "import pandas as pd\n",
    "import numpy as np\n",
    "import matplotlib.pyplot as plt\n",
    "from spacepy import coordinates as coord\n",
    "import spacepy.time as spt\n",
    "from spacepy.time import Ticktock\n",
    "import datetime as dt\n",
    "from mpl_toolkits.mplot3d import Axes3D\n",
    "import sys\n",
    "earth_radius_ax = 1.5*6371 #km\n",
    "#adding the year data here so I don't have to crush my github repo\n",
    "pathname = '../../data-se3-path-planner/yearData/batch2019/'\n",
    "# pathname = '../../batch2019/'\n",
    "sys.path.append(pathname)"
   ]
  },
  {
   "cell_type": "code",
   "execution_count": null,
   "metadata": {
    "collapsed": false
   },
   "outputs": [],
   "source": [
    "df = pd.read_csv(pathname+'Jan55_results.csv')\n",
    "# df = pd.read_csv(pathname+'65_year.csv')\n",
    "# df = pd.read_csv(pathname+'Jan65.csv')\n",
    "# df = pd.read_csv(pathname+'Jan80.csv')\n",
    "# df = pd.read_csv(pathname+'Jul65.csv')\n",
    "# df = pd.read_csv(pathname+'Jul90.csv')\n",
    "GMAT_MJD_OFFSET = 29999.5\n",
    "t = df['DefaultSC.A1ModJulian'] + GMAT_MJD_OFFSET\n",
    "x = df['DefaultSC.gse.X']\n",
    "y = df['DefaultSC.gse.Y']\n",
    "z = df['DefaultSC.gse.Z']\n",
    "\n",
    "spacecraft = coord.Coords([[i,j,k] for i,j,k in zip(x,y,z)], 'GSE', 'car')\n",
    "spacecraft.ticks = Ticktock(t,'MJD')\n",
    "# spacecraft = spacecraft.convert('SM','car')\n",
    "points = 5000\n",
    "# this figure validates what I already expected\n",
    "fig = plt.figure()\n",
    "ax = fig.add_subplot(111,projection='3d')\n",
    "ax.plot(spacecraft.x[:points],spacecraft.y[:points],spacecraft.z[:points])\n",
    "plt.title('SM Orbit')\n",
    "ax.set_xlabel('x')\n",
    "ax.set_ylabel('y')\n",
    "ax.set_zlabel('z')\n",
    "plt.show()\n",
    "\n",
    "# okay i've looked at a couple of orbits from the GSE point of view and\n",
    "# i now think that it's okay for a zero inclined orbit WRT to the earth\n",
    "# equator to be inclined WRT to the ecliptic, but like holy moley\n",
    "# these orbits are confusing sometimes.\n"
   ]
  },
  {
   "cell_type": "code",
   "execution_count": null,
   "metadata": {
    "collapsed": false
   },
   "outputs": [],
   "source": [
    "spacecraft_sph = spacecraft.convert('GSE','sph')\n",
    "\n",
    "xc,yc,zc = tsyg.orbitalCuspLocation(spacecraft,t)\n",
    "cusp_location = coord.Coords([[i,j,k] for i,j,k in zip(xc,yc,zc)], 'SM', 'car')\n",
    "cusp_location.ticks = Ticktock(t,'MJD')\n",
    "cusp_location_gse_sph = cusp_location.convert('GSE','sph')\n",
    "\n",
    "\n",
    "plt.plot(spacecraft_sph.ticks.MJD[:points], spacecraft_sph.lati[:points])\n",
    "plt.plot(cusp_location_gse_sph.ticks.MJD[:points], cusp_location_gse_sph.lati[:points])\n",
    "plt.show()\n",
    "# plt.plot(spacecraft_sph.ticks.MJD[:points], spacecraft_sph.long[:points])\n",
    "plt.plot(cusp_location_gse_sph.ticks.MJD[:points], cusp_location_gse_sph.long[:points])\n",
    "plt.show()"
   ]
  },
  {
   "cell_type": "markdown",
   "metadata": {},
   "source": [
    "So the Main issue seems to BE that the cusp location is a step function occasionally.  Let's look at the domain and range of the original tsyganenko to see if there are points where the function is undefined or if there are points where weird stuff is happening.  The basic idea at this point, is to see if there are interesting things going on with the cusp phi function.\n",
    "\n",
    "So what I've noticed is the sign FLIPS when the function goes to $\\pm 180$ degrees in the longitude.  It also retains this property for the 1/sin and 1/arcsin versions of the tsyganenko model.  So my next thought is that the coordinate transform is what's causing the discontinuity.  "
   ]
  }
 ],
 "metadata": {
  "kernelspec": {
   "display_name": "Python 3",
   "language": "python",
   "name": "python3"
  },
  "language_info": {
   "codemirror_mode": {
    "name": "ipython",
    "version": 3
   },
   "file_extension": ".py",
   "mimetype": "text/x-python",
   "name": "python",
   "nbconvert_exporter": "python",
   "pygments_lexer": "ipython3",
   "version": "3.5.2"
  }
 },
 "nbformat": 4,
 "nbformat_minor": 2
}
