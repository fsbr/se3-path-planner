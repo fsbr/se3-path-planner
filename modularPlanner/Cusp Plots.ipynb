{
 "cells": [
  {
   "cell_type": "markdown",
   "metadata": {},
   "source": [
    "Presented Below are two plots in subplot configuration.  The upper plot is a sum of the cusp crossings.  The lower plot is a plot of the cusp latitude and the spacecraft latitude/longitude plotted against time.  \n",
    "\n",
    "I used the Tsyganenko model of the cusp position.  This model describes the cusp position in the noon-midnight meridian using a cylindrical coordinate system.  The $r$ and $\\theta$ components are occuring in the xz plane.  The neutral axis is therefore the $y$ axis.  \n",
    "\n",
    "Tsyganenko provides the following equation for a simplified cusp model\n",
    "\\begin{equation}\n",
    "\\phi_{c} = arcsin(\\frac{\\sqrt{\\rho}}{\\sqrt{\\rho + \\sin^{-2}(\\phi_{1}) -1}}) + \\psi\n",
    "\\end{equation}\n",
    "\n",
    "Here, $\\rho$ is the radial of the satellite from the center of the earth.  $\\phi_{c}$ is the colatitude of the cusp position.  $\\psi$ is the dipole tilt of the cusp.  $\\phi_{1}$ is provided by the equation $\\phi_{c0} - (\\alpha_{1} \\psi + \\alpha_{2}\\psi^{2})$.  As in (Tsyganenko) the values of $\\phi_{c}$, $\\alpha_{1}$, and $\\alpha_{2}$ are 0.24, 0.1287, and 0.0314 respectively.  ((note that that last sentence is almost a literal copy paste of the Tsyg paper)).  "
   ]
  },
  {
   "cell_type": "code",
   "execution_count": null,
   "metadata": {
    "collapsed": true
   },
   "outputs": [],
   "source": []
  },
  {
   "cell_type": "code",
   "execution_count": null,
   "metadata": {
    "collapsed": true
   },
   "outputs": [],
   "source": []
  }
 ],
 "metadata": {
  "kernelspec": {
   "display_name": "Python 3",
   "language": "python",
   "name": "python3"
  },
  "language_info": {
   "codemirror_mode": {
    "name": "ipython",
    "version": 3
   },
   "file_extension": ".py",
   "mimetype": "text/x-python",
   "name": "python",
   "nbconvert_exporter": "python",
   "pygments_lexer": "ipython3",
   "version": "3.5.2"
  }
 },
 "nbformat": 4,
 "nbformat_minor": 2
}
