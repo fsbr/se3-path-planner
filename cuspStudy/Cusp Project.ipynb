{
 "cells": [
  {
   "cell_type": "markdown",
   "metadata": {},
   "source": [
    "Cusp Project, What I have so far."
   ]
  },
  {
   "cell_type": "code",
   "execution_count": 7,
   "metadata": {
    "collapsed": false
   },
   "outputs": [
    {
     "name": "stdout",
     "output_type": "stream",
     "text": [
      "[[14]]\n",
      "[[14], [10]]\n",
      "[[14], [10], [12]]\n",
      "[[14], [10], [12], [12]]\n",
      "[[14], [10], [12], [12], [9]]\n",
      "[[14], [10], [12], [12], [9], [10]]\n",
      "[[14], [10], [12], [12], [9], [10], [12]]\n"
     ]
    },
    {
     "data": {
      "image/png": "[encoded data removed]",
      "text/plain": [
       "<matplotlib.figure.Figure at 0x7fe8c2ad7690>"
      ]
     },
     "metadata": {},
     "output_type": "display_data"
    }
   ],
   "source": [
    "# okay lets do this\n",
    "import pandas as pd\n",
    "import numpy as np\n",
    "filesList = ['55deg.txt', '60deg.txt','65deg.txt', '70deg.txt', '75deg.txt','80deg.txt','85deg.txt']\n",
    "anglesList = [55, 60, 65, 70, 75, 80, 85]\n",
    "\n",
    "cma = []\n",
    "npi = 0\n",
    "for files in filesList:\n",
    "    df = pd.read_csv(files)\n",
    "    # print df.tail()\n",
    "    Xgse =  df['DefaultSC.gse.X']\n",
    "    Zgse =  df['DefaultSC.gse.Z']\n",
    "\n",
    "    angle =  np.arctan2(df['DefaultSC.gse.Z'], df['DefaultSC.gse.X'])\n",
    "\n",
    "    # make it into an array for iteration (probably a faster way)\n",
    "\n",
    "    # print angle\n",
    "    #print len(angle)\n",
    "    count = 0\n",
    "    for x in angle:\n",
    "        if 0.2151<=x<=0.2849:\n",
    "            count+=1\n",
    "\n",
    "    # print count\n",
    "    cma.append([count])\n",
    "    npi+=1\n",
    "\n",
    "    print cma\n",
    "\n",
    "from pylab import *\n",
    "cdict = {'red': ((0.0, 0.0, 0.0),\n",
    "                 (0.5, 1.0, 0.7),\n",
    "                 (1.0, 1.0, 1.0)),\n",
    "         'green': ((0.0, 0.0, 0.0),\n",
    "                   (0.5, 1.0, 0.0),\n",
    "                   (1.0, 1.0, 1.0)),\n",
    "         'blue': ((0.0, 0.0, 0.0),\n",
    "                  (0.5, 1.0, 0.0),\n",
    "                  (1.0, 0.5, 1.0))}\n",
    "my_cmap = matplotlib.colors.LinearSegmentedColormap('my_colormap',cdict,256)\n",
    "pcolor(cma,cmap=my_cmap)\n",
    "colorbar()\n",
    "plt.show()"
   ]
  },
  {
   "cell_type": "code",
   "execution_count": null,
   "metadata": {
    "collapsed": true
   },
   "outputs": [],
   "source": []
  }
 ],
 "metadata": {
  "kernelspec": {
   "display_name": "Python 2",
   "language": "python",
   "name": "python2"
  },
  "language_info": {
   "codemirror_mode": {
    "name": "ipython",
    "version": 2
   },
   "file_extension": ".py",
   "mimetype": "text/x-python",
   "name": "python",
   "nbconvert_exporter": "python",
   "pygments_lexer": "ipython2",
   "version": "2.7.12"
  }
 },
 "nbformat": 4,
 "nbformat_minor": 1
}
